{
  "nbformat": 4,
  "nbformat_minor": 0,
  "metadata": {
    "colab": {
      "name": "Untitled0.ipynb",
      "provenance": [],
      "collapsed_sections": [],
      "authorship_tag": "ABX9TyNrZNcUrJKzvNMCceHQiW9W",
      "include_colab_link": true
    },
    "kernelspec": {
      "name": "python3",
      "display_name": "Python 3"
    }
  },
  "cells": [
    {
      "cell_type": "markdown",
      "metadata": {
        "id": "view-in-github",
        "colab_type": "text"
      },
      "source": [
        "<a href=\"https://colab.research.google.com/github/Caiel3/Crystal_Web/blob/Google_colab/web_scraping_notebook.ipynb\" target=\"_parent\"><img src=\"https://colab.research.google.com/assets/colab-badge.svg\" alt=\"Open In Colab\"/></a>"
      ]
    },
    {
      "cell_type": "code",
      "metadata": {
        "id": "qCY43iPS_9uk",
        "colab_type": "code",
        "colab": {}
      },
      "source": [
        "  \n",
        "import sys\n",
        "import urllib.request\n",
        "from bs4 import BeautifulSoup"
      ],
      "execution_count": 0,
      "outputs": []
    },
    {
      "cell_type": "code",
      "metadata": {
        "id": "GWPL7zggAD9A",
        "colab_type": "code",
        "colab": {
          "base_uri": "https://localhost:8080/",
          "height": 476
        },
        "outputId": "1db16e69-b4f5-43e7-809d-be4c6bc092f5"
      },
      "source": [
        "\n",
        "url='https://www.falabella.com.co/falabella-co/category/cat5390977/Sacos-y-Hoodies'\n",
        "headers={}\n",
        "headers['User-Agent']='Mozilla/5.0 (X11; Linux i686) AppleWebKit/537.17 (KHTML, like Gecko) Chrome/24.0.1312.27 safari/537.17'\n",
        "req=urllib.request.Request(url,headers=headers)\n",
        "resp=urllib.request.urlopen(req)\n",
        "respData=resp.read()\n",
        "saveFile=open('headers.txt','w')\n",
        "soup=BeautifulSoup(respData)\n",
        "tags=soup('a')\n",
        "direcciones=[]\n",
        "cont=0\n",
        "for tag in tags:\n",
        "  aux=tag.get('href')\n",
        "  if aux != None:\n",
        "    if \"www\" in aux:\n",
        "      print(aux)\n",
        "      direcciones\n",
        "      cont+=1\n",
        "    "
      ],
      "execution_count": 10,
      "outputs": [
        {
          "output_type": "stream",
          "text": [
            "https://www.falabella.com.co/falabella-co/page/servicio-al-cliente?staticPageId=13000002\n",
            "https://www.falabella.com.co/falabella-co/page/servicio-al-cliente?staticPageId=13000002#nuestras-tiendas\n",
            "https://www.falabella.com.co/falabella-co/page/servicio-al-cliente?staticPageId=13000002\n",
            "https://www.noviosfalabella.com.co/novios-co/public/inicio.do\n",
            "https://www.bancofalabella.com.co/\n",
            "http://www.segurosfalabella.com.co/web/seguroscolombia/home\n",
            "http://www.homecenter.com.co/homecenter-co\n",
            "https://www.linio.com.co/\n",
            "https://www.falabella.com.co/falabella-co/page/servicio-al-cliente?staticPageId=13000002\n",
            "https://www.falabella.com.co/falabella-co/page/servicio-al-cliente?staticPageId=13000002#nuestras-tiendas\n",
            "https://www.falabella.com.co/falabella-co/page/servicio-al-cliente?staticPageId=13000002\n",
            "https://www.noviosfalabella.com.co/novios-co/public/inicio.do\n",
            "https://www.falabella.com.co/falabella-co/basket\n",
            "https://www.falabella.com.co/falabella-co/\n",
            "https://www.falabella.com.co/falabella-co/product/4239264/Buzo/4239267\n",
            "https://www.falabella.com.co/falabella-co/product/3741352/Saco/3741353\n",
            "https://www.falabella.com.co/falabella-co/product/4238598/Buzo/4238601\n",
            "https://www.falabella.com.co/falabella-co/product/3946551/Saco/3946554\n",
            "https://www.falabella.com.co/falabella-co/product/881510123/Saco/881510124\n",
            "https://www.falabella.com.co/falabella-co/product/3946546/Saco/3946547\n",
            "https://www.falabella.com.co/falabella-co/product/881686033/Saco-Deportivo/881686034\n",
            "https://www.falabella.com.co/falabella-co/product/881686033/Saco-Deportivo\n",
            "https://www.falabella.com.co/falabella-co/product/881686592/Buzo-Deportivo/881686596\n",
            "https://www.falabella.com.co/falabella-co/product/3741097/Hoodie/3741098\n",
            "https://www.falabella.com.co/falabella-co/product/3946541/Saco/3946542\n",
            "https://www.falabella.com.co/falabella-co/product/3946536/Saco/3946537\n",
            "https://www.falabella.com.co/falabella-co/product/881685885/Saco-Deportivo/881685886\n"
          ],
          "name": "stdout"
        }
      ]
    }
  ]
}